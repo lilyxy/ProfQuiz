{
 "cells": [
  {
   "cell_type": "code",
   "execution_count": null,
   "metadata": {
    "scrolled": true
   },
   "outputs": [
    {
     "name": "stdout",
     "output_type": "stream",
     "text": [
      "1. What seminar cookie are you?\n",
      "\n",
      "  1) Chocolate Chip\n",
      "  2) Oatmeal\n",
      "  3) Double Chocolate\n",
      "  4) White Chocolate\n",
      "  5) I don't eat cookies\n",
      "\n"
     ]
    }
   ],
   "source": [
    "import csv\n",
    "\n",
    "raw = []\n",
    "with open('data.csv', newline='') as csvfile:\n",
    "    datareader = csv.reader(csvfile, delimiter=' ', quotechar='|')\n",
    "    for row in datareader:\n",
    "        raw.append(' '.join(row))\n",
    "\n",
    "quests = list(raw[0].split(\"\\t\"))\n",
    "n = len(quests)\n",
    "answers = list(i.split(\"\\t\") for i in raw[1:n+1])\n",
    "data = list(i.split(\"\\t\") for i in raw[n+1:])\n",
    "responses = []\n",
    "\n",
    "for i in range(n):\n",
    "    print(str(i+1)+\".\", quests[i])\n",
    "    print()\n",
    "    for j in range(len(answers[i])):\n",
    "        print(\"  \"+str(j+1)+\")\", answers[i][j])\n",
    "    print(flush = True)\n",
    "    responses.append(input())\n",
    "    print()\n",
    "\n",
    "tally = []\n",
    "#print(responses)\n",
    "for i in range(len(data)):\n",
    "    score = list(map(lambda x, y: int(x == y), responses, data[i][1:]))\n",
    "    #print(score, responses, data[i])\n",
    "    tally.append([sum(score), score[::-1], data[i][0]])\n",
    "tally.sort()\n",
    "for t in tally:\n",
    "    #print(t);\n",
    "    continue;\n",
    "print(\"If you were a UWaterloo Math Professor, you'd be:\", tally[-1][2])\n",
    "print()\n",
    "print(\"Your next three closest profs, in order, are:\")\n",
    "for i in range(3):\n",
    "    print(tally[-2-i][2])\n",
    "print()\n",
    "\"\"\"\n",
    "print(\"Your complete ranking, from most to least alike:\")\n",
    "for i in range(len(tally)):\n",
    "    print(tally[-1-i][2])\n",
    "\"\"\""
   ]
  },
  {
   "cell_type": "markdown",
   "metadata": {},
   "source": [
    "\n",
    "\n",
    "\n",
    "\n",
    "\n",
    "\n",
    "\n",
    "\n",
    "\n",
    "\n",
    "\n",
    "\n",
    "\n",
    "\n",
    "\n",
    "\n",
    "\n",
    "\n",
    "\n",
    "\n",
    "\n",
    "\n",
    "\n",
    "\n",
    "#to-do: add Wentang, Richtor?\n"
   ]
  },
  {
   "cell_type": "code",
   "execution_count": null,
   "metadata": {
    "collapsed": true
   },
   "outputs": [],
   "source": [
    "\"\"\"\n",
    "n = 5\n",
    "questions = [\"What seminar cookie are you?\",\"What C&D food are you?\",\"You're at a seminar. What are you doing?\", \"Whiteboard or Blackboard?\", \"How do you prove it?\"];\n",
    "responses = [[\"Chocolate Chip\", \"Oatmeal\", \"Double Chocolate\", \"White Chocolate\", \"I don't eat cookies\"],\n",
    "             [\"Jacqueline's catering\", \"Coffee\", \"Samosa/Patty/Soup\", \"Sweets\", \"Tim Horton's is better\"],\n",
    "             [\"Sleeping in the front row\", \"Asking tangential questions\", \"I don't go\", \"Listen and ask questions\", \"I'm the speaker\"],\n",
    "             [\"Whiteboard\", \"Blackboard\",\"Slides\", \"I just talk\"],\n",
    "             [\"Induction\", \"Contradiction\", \"Exercise to the reader\", \"Thoroughly\", \"Sketch\"]];\n",
    "raw_data = ['Ruxandra Moraru\\t1\\t1\\t4\\t2\\t4', 'Peter Nelson\\t1\\t2\\t2\\t1\\t5', 'Jim Geelen\\t1\\t2\\t5\\t1\\t1', 'Ian Goulden\\t1\\t3\\t1\\t2\\t1', 'Chris Godsil\\t1\\t4\\t1\\t1\\t3', 'Yu-ru Liu\\t1\\t4\\t4\\t2\\t4', 'Bill Cook\\t1\\t4\\t5\\t3\\t4', 'Spiro Karigiannis\\t2\\t2\\t2\\t2\\t5', 'Nico Spronk\\t2\\t3\\t3\\t2\\t5', 'J. P. Bell\\t2\\t3\\t4\\t2\\t2', 'David Wagner\\t2\\t5\\t1\\t2\\t1', 'David McKinnon\\t3\\t1\\t2\\t2\\t4', 'Ken Davidson\\t3\\t2\\t1\\t2\\t3', 'Benoit Charbonneau\\t3\\t2\\t1\\t2\\t5', 'Kevin Purbhoo\\t3\\t4\\t1\\t1\\t3', 'Matt Kennedy\\t3\\t4\\t4\\t1\\t4', 'Matt Satriano\\t3\\t4\\t4\\t1\\t5', 'Laurent Marcoux\\t4\\t1\\t4\\t2\\t4', 'Stephen New\\t4\\t2\\t3\\t2\\t1', 'David Jao\\t4\\t3\\t2\\t3\\t5', 'Jochen Konenman\\t4\\t3\\t3\\t4\\t5', 'Luke Postle\\t4\\t4\\t4\\t1\\t1', 'Kathryn Hare\\t4\\t4\\t4\\t2\\t4', 'Kevin Hare\\t5\\t2\\t3\\t2\\t3', 'Jerry Wang\\t5\\t3\\t2\\t1\\t5', 'Levent Tuncel\\t5\\t5\\t2\\t1\\t4', 'Ben Webster\\t5\\t5\\t2\\t4\\t2'];\n",
    "prof_data = list(i.split(\"\\t\") for i in raw_data)\n",
    "#print(prof_data)\n",
    "answers = [];\n",
    "\n",
    "for i in range(n):\n",
    "    print(str(i+1)+\".\", questions[i])\n",
    "    print()\n",
    "    for j in range(len(responses[i])):\n",
    "        print(\"  \"+str(j+1)+\")\", responses[i][j])\n",
    "    print()\n",
    "    #answers.append(input())\n",
    "    print()\n",
    "\n",
    "#q1 = input(\"what seminar cookie are you?\")\n",
    "\"\"\""
   ]
  }
 ],
 "metadata": {
  "kernelspec": {
   "display_name": "Python 3",
   "language": "python",
   "name": "python3"
  },
  "language_info": {
   "codemirror_mode": {
    "name": "ipython",
    "version": 3
   },
   "file_extension": ".py",
   "mimetype": "text/x-python",
   "name": "python",
   "nbconvert_exporter": "python",
   "pygments_lexer": "ipython3",
   "version": "3.6.4"
  }
 },
 "nbformat": 4,
 "nbformat_minor": 2
}
